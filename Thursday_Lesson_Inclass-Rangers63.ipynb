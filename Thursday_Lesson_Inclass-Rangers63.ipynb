{
 "cells": [
  {
   "cell_type": "markdown",
   "metadata": {},
   "source": [
    "# Object-Oriented-Programming (OOP)"
   ]
  },
  {
   "cell_type": "markdown",
   "metadata": {},
   "source": [
    "## Tasks Today:\n",
    "\n",
    "   \n",
    "\n",
    "1) <b>Creating a Class (Initializing/Declaring)</b> <br>\n",
    "2) <b>Using a Class (Instantiating)</b> <br>\n",
    " &nbsp;&nbsp;&nbsp;&nbsp; a) Creating One Instance <br>\n",
    " &nbsp;&nbsp;&nbsp;&nbsp; b) Creating Multiple Instances <br>\n",
    " &nbsp;&nbsp;&nbsp;&nbsp; c) In-Class Exercise #1 - Create a Class 'Car' and instantiate three different makes of cars <br>\n",
    "3) <b>The \\__init\\__() Method</b> <br>\n",
    " &nbsp;&nbsp;&nbsp;&nbsp; a) The 'self' Attribute <br>\n",
    "4) <b>Class Attributes</b> <br>\n",
    " &nbsp;&nbsp;&nbsp;&nbsp; a) Initializing Attributes <br>\n",
    " &nbsp;&nbsp;&nbsp;&nbsp; b) Setting an Attribute Outside of the \\__init\\__() Method <br>\n",
    " &nbsp;&nbsp;&nbsp;&nbsp; c) Setting Defaults for Attributes <br>\n",
    " &nbsp;&nbsp;&nbsp;&nbsp; d) Accessing Class Attributes <br>\n",
    " &nbsp;&nbsp;&nbsp;&nbsp; e) Changing Class Attributes <br>\n",
    " &nbsp;&nbsp;&nbsp;&nbsp; f) In-Class Exercise #2 - Add a color and wheels attribute to your 'Car' class <br>\n",
    "5) <b>Class Methods</b> <br>\n",
    " &nbsp;&nbsp;&nbsp;&nbsp; a) Creating <br>\n",
    " &nbsp;&nbsp;&nbsp;&nbsp; b) Calling <br>\n",
    " &nbsp;&nbsp;&nbsp;&nbsp; c) Modifying an Attribute's Value Through a Method <br>\n",
    " &nbsp;&nbsp;&nbsp;&nbsp; d) Incrementing an Attribute's Value Through a Method <br>\n",
    " &nbsp;&nbsp;&nbsp;&nbsp; e) In-Class Exercise #3 - Add a method that prints the cars color and wheel number, then call them <br>\n",
    "6) <b>Inheritance</b> <br>\n",
    " &nbsp;&nbsp;&nbsp;&nbsp; a) Syntax for Inheriting from a Parent Class <br>\n",
    " &nbsp;&nbsp;&nbsp;&nbsp; b) The \\__init\\__() Method for a Child Class (super()) <br>\n",
    " &nbsp;&nbsp;&nbsp;&nbsp; c) Defining Attributes and Methods for the Child Class <br>\n",
    " &nbsp;&nbsp;&nbsp;&nbsp; d) Method Overriding <br>\n",
    " &nbsp;&nbsp;&nbsp;&nbsp; e) In-Class Exercise #4 - Create a class 'Ford' that inherits from 'Car' class and initialize it as a Blue Ford Explorer with 4 wheels using the super() method <br>\n",
    "7) <b>Classes as Attributes</b> <br>\n",
    "8) <b>Exercises</b> <br>\n",
    " &nbsp;&nbsp;&nbsp;&nbsp; a) Exercise #1 - Turn the shopping cart program from yesterday into an object-oriented program <br>"
   ]
  },
  {
   "cell_type": "markdown",
   "metadata": {},
   "source": [
    "## Creating a Class (Initializing/Declaring)\n",
    "<p>When creating a class, function, or even a variable you are initializing that object. Initializing and Declaring occur at the same time in Python, whereas in lower level languages you have to declare an object before initializing it. This is the first step in the process of using a class.</p>"
   ]
  },
  {
   "cell_type": "code",
   "execution_count": 3,
   "metadata": {},
   "outputs": [],
   "source": [
    "class Car():\n",
    "    wheels = 4\n",
    "    color = 'blue'"
   ]
  },
  {
   "cell_type": "markdown",
   "metadata": {},
   "source": [
    "## Using a Class (Instantiating)\n",
    "<p>The process of creating a class is called <i>Instantiating</i>. Each time you create a variable of that type of class, it is referred to as an <i>Instance</i> of that class. This is the second step in the process of using a class.</p>"
   ]
  },
  {
   "cell_type": "markdown",
   "metadata": {},
   "source": [
    "##### Creating One Instance"
   ]
  },
  {
   "cell_type": "code",
   "execution_count": 1,
   "metadata": {},
   "outputs": [
    {
     "ename": "NameError",
     "evalue": "name 'Car' is not defined",
     "output_type": "error",
     "traceback": [
      "\u001b[0;31m---------------------------------------------------------------------------\u001b[0m",
      "\u001b[0;31mNameError\u001b[0m                                 Traceback (most recent call last)",
      "\u001b[0;32m<ipython-input-1-685c666dd90e>\u001b[0m in \u001b[0;36m<module>\u001b[0;34m\u001b[0m\n\u001b[0;32m----> 1\u001b[0;31m \u001b[0mford\u001b[0m \u001b[0;34m=\u001b[0m \u001b[0mCar\u001b[0m\u001b[0;34m(\u001b[0m\u001b[0;34m)\u001b[0m\u001b[0;34m\u001b[0m\u001b[0;34m\u001b[0m\u001b[0m\n\u001b[0m",
      "\u001b[0;31mNameError\u001b[0m: name 'Car' is not defined"
     ]
    }
   ],
   "source": [
    "ford_focus = Car()"
   ]
  },
  {
   "cell_type": "markdown",
   "metadata": {},
   "source": [
    "##### Creating Multiple Instances"
   ]
  },
  {
   "cell_type": "code",
   "execution_count": 7,
   "metadata": {},
   "outputs": [
    {
     "name": "stdout",
     "output_type": "stream",
     "text": [
      "blue\n",
      "<class 'str'>\n",
      "<class 'int'>\n"
     ]
    }
   ],
   "source": [
    "honda = Car()\n",
    "chevy = Car()\n",
    "porsche = Car()\n",
    "\n",
    "print(honda.color)\n",
    "#print(chevy.horn)\n",
    "print(type(porsche.color))\n",
    "print(type(porsche.wheels))"
   ]
  },
  {
   "cell_type": "markdown",
   "metadata": {},
   "source": [
    "##### In-Class Exercise #1 - Create a Class 'Car' and Instantiate three different makes of cars"
   ]
  },
  {
   "cell_type": "code",
   "execution_count": 12,
   "metadata": {},
   "outputs": [
    {
     "name": "stdout",
     "output_type": "stream",
     "text": [
      "red\n",
      "whole\n"
     ]
    }
   ],
   "source": [
    "class Car():\n",
    "    color = \"red\"\n",
    "    roof = \"whole\"\n",
    "    dials = 15\n",
    "    drop_top = \"yes\"\n",
    "    \n",
    "    \n",
    "corvette = Cars()\n",
    "bugatti = Cars()\n",
    "austin_martin = Cars()\n",
    "\n",
    "print(corvette.color)\n",
    "print(bugatti.roof)\n"
   ]
  },
  {
   "cell_type": "markdown",
   "metadata": {},
   "source": [
    "## The \\__init\\__() Method <br>\n",
    "<p>This method is used in almost every created class, and called only once upon the creation of the class instance. This method will initialize all variables needed for the object.</p>"
   ]
  },
  {
   "cell_type": "code",
   "execution_count": 14,
   "metadata": {},
   "outputs": [
    {
     "name": "stdout",
     "output_type": "stream",
     "text": [
      "4\n",
      "blue\n"
     ]
    },
    {
     "data": {
      "text/plain": [
       "{'wheels': 8, 'color': 'blue'}"
      ]
     },
     "execution_count": 14,
     "metadata": {},
     "output_type": "execute_result"
    }
   ],
   "source": [
    "class Car():\n",
    "    engine = \"4.7L\" # constant-attribute, DO NOT CHANGE\n",
    "    \n",
    "    def __init__(self, wheels, color):\n",
    "        #self if the instantiated object\n",
    "        self.wheels = wheels\n",
    "        self.color = color\n",
    "        \n",
    "corvette = Car(4, \"red\")\n",
    "ford = Car(8, \"blue\")\n",
    "\n",
    "print(corvette.wheels)\n",
    "print(ford.color)\n",
    "\n",
    "ford.__dict__"
   ]
  },
  {
   "cell_type": "markdown",
   "metadata": {},
   "source": [
    "##### The 'self' Attribute <br>\n",
    "<p>This attribute is required to keep track of specific instance's attributes. Without the self attribute, the program would not know how to reference or keep track of an instance's attributes.</p>"
   ]
  },
  {
   "cell_type": "code",
   "execution_count": null,
   "metadata": {},
   "outputs": [],
   "source": [
    "# see above"
   ]
  },
  {
   "cell_type": "markdown",
   "metadata": {},
   "source": [
    "## Class Attributes <br>\n",
    "<p>While variables are inside of a class, they are referred to as attributes and not variables. When someone says 'attribute' you know they're speaking about a class. Attributes can be initialized through the init method, or outside of it.</p>"
   ]
  },
  {
   "cell_type": "markdown",
   "metadata": {},
   "source": [
    "##### Initializing Attributes"
   ]
  },
  {
   "cell_type": "code",
   "execution_count": 15,
   "metadata": {},
   "outputs": [
    {
     "name": "stdout",
     "output_type": "stream",
     "text": [
      "Star Trek\n",
      "rectangular\n"
     ]
    }
   ],
   "source": [
    "class Toy():\n",
    "    toy_type = \"lego\"\n",
    "    \n",
    "    def __init__(self, modular, shape, color, colletion):\n",
    "        self.modular = modular\n",
    "        self.shape = shape\n",
    "        self.color = color\n",
    "        self.colletion = colletion\n",
    "        \n",
    "y_wing = Toy(True, \"rectangle\", \"grey\", \"Star Trek\" )\n",
    "white_house = Toy(True, \"rectangular\", \"white\", \"architecture\")\n",
    "\n",
    "print(y_wing.colletion)\n",
    "print(white_house.shape)"
   ]
  },
  {
   "cell_type": "markdown",
   "metadata": {},
   "source": [
    "##### Accessing Class Attributes"
   ]
  },
  {
   "cell_type": "code",
   "execution_count": null,
   "metadata": {
    "scrolled": true
   },
   "outputs": [],
   "source": [
    "# See Above\n",
    "print(y_wing.colletion)\n",
    "print(white_house.shape)"
   ]
  },
  {
   "cell_type": "markdown",
   "metadata": {},
   "source": [
    "##### Setting Defaults for Attributes"
   ]
  },
  {
   "cell_type": "code",
   "execution_count": 16,
   "metadata": {},
   "outputs": [
    {
     "name": "stdout",
     "output_type": "stream",
     "text": [
      "8\n",
      "Blue\n"
     ]
    }
   ],
   "source": [
    "class Car():\n",
    "    engine = \"4.7\"\n",
    "    \n",
    "    def __init__(self, wheels):\n",
    "        self.wheels = wheels\n",
    "        self.color = \"Blue\" #Default attribute\n",
    "        \n",
    "jeep = Car(8)\n",
    "honda = Car(4)\n",
    "#mazda = Car(4)\n",
    "\n",
    "print(jeep.wheels)\n",
    "print(jeep.color)\n"
   ]
  },
  {
   "cell_type": "markdown",
   "metadata": {},
   "source": [
    "##### Changing Class Attributes <br>\n",
    "<p>Keep in mind there are global class attributes and then there are attributes only available to each class instance which won't effect other classes.</p>"
   ]
  },
  {
   "cell_type": "code",
   "execution_count": 17,
   "metadata": {},
   "outputs": [
    {
     "name": "stdout",
     "output_type": "stream",
     "text": [
      "Before changes: Blue\n",
      "After Changes: White\n"
     ]
    }
   ],
   "source": [
    "# Changing the default attributes for our jeep\n",
    "print(f\"Before changes: {jeep.color}\")\n",
    "jeep.color = \"White\"\n",
    "print(f\"After Changes: {jeep.color}\")"
   ]
  },
  {
   "cell_type": "code",
   "execution_count": null,
   "metadata": {},
   "outputs": [],
   "source": []
  },
  {
   "cell_type": "markdown",
   "metadata": {},
   "source": [
    "##### In-Class Exercise #2 - Add a doors and seats attribute to your 'Car' class then print out two different instances with different doors and seats"
   ]
  },
  {
   "cell_type": "code",
   "execution_count": 18,
   "metadata": {},
   "outputs": [
    {
     "name": "stdout",
     "output_type": "stream",
     "text": [
      "4\n",
      "2\n",
      "2\n",
      "5\n"
     ]
    }
   ],
   "source": [
    "class Car():\n",
    "    \n",
    "    def __init__(self, door, seat):\n",
    "        self.door = door\n",
    "        self.seat = seat\n",
    "        \n",
    "lincoln = Car(4,2)\n",
    "acura = Car(2,5)\n",
    "\n",
    "print(lincoln.door)\n",
    "print(lincoln.seat)\n",
    "print(acura.door)\n",
    "print(acura.seat)"
   ]
  },
  {
   "cell_type": "markdown",
   "metadata": {},
   "source": [
    "## Class Methods <br>\n",
    "<p>While inside of a class, functions are referred to as 'methods'. If you hear someone mention methods, they're speaking about classes. Methods are essentially functions, but only callable on the instances of a class.</p>"
   ]
  },
  {
   "cell_type": "markdown",
   "metadata": {},
   "source": [
    "##### Creating"
   ]
  },
  {
   "cell_type": "code",
   "execution_count": 48,
   "metadata": {},
   "outputs": [],
   "source": [
    "class Inventory():\n",
    "    \"\"\"\n",
    "    The Inventory Class will have capacity and \n",
    "    items to place inside\n",
    "    \n",
    "    Atrributes for the class:\n",
    "    -capacity: expect an interger\n",
    "    -items: expect a list\n",
    "    \"\"\"\n",
    "    \n",
    "    def __init__(self, capacity, items):\n",
    "        self.capacity = capacity\n",
    "        self.items = items\n",
    "        \n",
    "    #Method that shows what is in our inventory\n",
    "    def showInventory(self):\n",
    "        if self.items == []:\n",
    "            print(\"Your bag is empty, gather some supplies quickly!\")\n",
    "        else:\n",
    "            print(\"Here are your adventuring supplies!\")\n",
    "            for item in self.items:\n",
    "                print(item)\n",
    "    \n",
    "    # Show capacity of our inventory\n",
    "    def showCapacity(self):\n",
    "        print(f\"Your carrying capacity is {self.capacity}\")\n",
    "        \n",
    "    # Add items to our inventory    \n",
    "    def addToInventory(self):\n",
    "        supplies = input(\"What would you like to add?\")\n",
    "        self.items.append(supplies)\n",
    "        \n",
    "    # Change the capacity of our inventory            \n",
    "    def changeInventoryCapacity(self, capacity):\n",
    "        self.capacity = capacity\n",
    "        \n",
    "    # Increase capacity of our Inventory by a default of 10\n",
    "    def increaseCapacity(self, changed_capacity = 10):\n",
    "        if isinstance(self.capacity, str):\n",
    "            print(\"This is nott the datatype you're looking for...\")\n",
    "        else:\n",
    "            self.capacity += changed_capacity\n",
    "        \n",
    "    "
   ]
  },
  {
   "cell_type": "markdown",
   "metadata": {},
   "source": [
    "##### Calling"
   ]
  },
  {
   "cell_type": "code",
   "execution_count": 49,
   "metadata": {},
   "outputs": [
    {
     "name": "stdout",
     "output_type": "stream",
     "text": [
      "What would you like to do? add/show/quitadd\n",
      "What would you like to add?sword\n",
      "What would you like to do? add/show/quitshow\n",
      "Here are your adventuring supplies!\n",
      "sword\n",
      "What would you like to do? add/show/quitquit\n",
      "Here are your adventuring supplies!\n",
      "sword\n",
      "ONWARD! Your quest is yet to be completed!\n"
     ]
    }
   ],
   "source": [
    "# See Above\n",
    "\n",
    "#create an instance of our Inventory Class\n",
    "\n",
    "mage_bag = Inventory(10, [])\n",
    "\n",
    "#Create a function to run the Inventory Methods\n",
    "\n",
    "def run():\n",
    "    while True:\n",
    "        response = input(\"What would you like to do? add/show/quit\")\n",
    "        \n",
    "        if response.lower() == \"quit\":\n",
    "            mage_bag.showInventory()\n",
    "            print(\"ONWARD! Your quest is yet to be completed!\")\n",
    "            break\n",
    "        elif response.lower() == \"add\":\n",
    "            mage_bag.addToInventory()\n",
    "        elif response.lower() == \"show\":\n",
    "            mage_bag.showInventory()\n",
    "            \n",
    "run()"
   ]
  },
  {
   "cell_type": "markdown",
   "metadata": {},
   "source": [
    "##### Modifying an Attribute's Value Through a Method"
   ]
  },
  {
   "cell_type": "code",
   "execution_count": 24,
   "metadata": {},
   "outputs": [
    {
     "name": "stdout",
     "output_type": "stream",
     "text": [
      "Your carrying capacity is 10\n",
      "Capacity AFTER the DEFAULT change...\n",
      "Your carrying capacity is 15\n"
     ]
    }
   ],
   "source": [
    "#Show Capacity\n",
    "mage_bag.showCapacity()\n",
    "print(\"Capacity AFTER the DEFAULT change...\")\n",
    "mage_bag.changeInventoryCapacity(15)\n",
    "mage_bag.showCapacity()\n"
   ]
  },
  {
   "cell_type": "markdown",
   "metadata": {},
   "source": [
    "##### Incrementing an Attribute's Value Through a Method"
   ]
  },
  {
   "cell_type": "code",
   "execution_count": 26,
   "metadata": {},
   "outputs": [
    {
     "name": "stdout",
     "output_type": "stream",
     "text": [
      "Your carrying capacity is 35\n",
      "Capacity After increase\n",
      "Your carrying capacity is 35\n",
      "After non-default capcity increase\n",
      "Your carrying capacity is 55\n"
     ]
    }
   ],
   "source": [
    "mage_bag.showCapacity()\n",
    "print(\"Capacity After increase\")\n",
    "mage_bag.increaseCapacity\n",
    "mage_bag.showCapacity()\n",
    "print(\"After non-default capacity increase\")\n",
    "mage_bag.increaseCapacity(20)\n",
    "mage_bag.showCapacity()"
   ]
  },
  {
   "cell_type": "markdown",
   "metadata": {},
   "source": [
    "##### In-Class Exercise #3 - Add a method that takes in three parameters of year, doors and seats and prints out a formatted print statement with make, model, year, seats, and doors"
   ]
  },
  {
   "cell_type": "code",
   "execution_count": 30,
   "metadata": {},
   "outputs": [
    {
     "ename": "NameError",
     "evalue": "name 'year' is not defined",
     "output_type": "error",
     "traceback": [
      "\u001b[0;31m---------------------------------------------------------------------------\u001b[0m",
      "\u001b[0;31mNameError\u001b[0m                                 Traceback (most recent call last)",
      "\u001b[0;32m<ipython-input-30-e868891533f8>\u001b[0m in \u001b[0;36m<module>\u001b[0;34m\u001b[0m\n\u001b[1;32m      5\u001b[0m \u001b[0;31m# Output: This car is from 2019 and is a Ford Expolorer and has 4 doors and 5 seats\u001b[0m\u001b[0;34m\u001b[0m\u001b[0;34m\u001b[0m\u001b[0;34m\u001b[0m\u001b[0m\n\u001b[1;32m      6\u001b[0m \u001b[0;34m\u001b[0m\u001b[0m\n\u001b[0;32m----> 7\u001b[0;31m \u001b[0;32mclass\u001b[0m \u001b[0mMachine\u001b[0m\u001b[0;34m(\u001b[0m\u001b[0;34m)\u001b[0m\u001b[0;34m:\u001b[0m\u001b[0;34m\u001b[0m\u001b[0;34m\u001b[0m\u001b[0m\n\u001b[0m\u001b[1;32m      8\u001b[0m \u001b[0;34m\u001b[0m\u001b[0m\n\u001b[1;32m      9\u001b[0m     \u001b[0;32mdef\u001b[0m \u001b[0m__init__\u001b[0m\u001b[0;34m(\u001b[0m\u001b[0mself\u001b[0m\u001b[0;34m,\u001b[0m \u001b[0mmake\u001b[0m \u001b[0;34m=\u001b[0m \u001b[0;34m\"Ford\"\u001b[0m\u001b[0;34m,\u001b[0m \u001b[0mmodel\u001b[0m \u001b[0;34m=\u001b[0m\u001b[0;34m\"Explorer\"\u001b[0m\u001b[0;34m)\u001b[0m\u001b[0;34m:\u001b[0m\u001b[0;34m\u001b[0m\u001b[0;34m\u001b[0m\u001b[0m\n",
      "\u001b[0;32m<ipython-input-30-e868891533f8>\u001b[0m in \u001b[0;36mMachine\u001b[0;34m()\u001b[0m\n\u001b[1;32m     17\u001b[0m         \u001b[0mself\u001b[0m\u001b[0;34m.\u001b[0m\u001b[0mseats\u001b[0m \u001b[0;34m=\u001b[0m \u001b[0mseats\u001b[0m\u001b[0;34m\u001b[0m\u001b[0;34m\u001b[0m\u001b[0m\n\u001b[1;32m     18\u001b[0m \u001b[0;34m\u001b[0m\u001b[0m\n\u001b[0;32m---> 19\u001b[0;31m     \u001b[0mprint\u001b[0m\u001b[0;34m(\u001b[0m\u001b[0;34mf\"This car is from {year} and is a {make} {model} and has {door} doors and {seats} seats!\"\u001b[0m\u001b[0;34m)\u001b[0m\u001b[0;34m\u001b[0m\u001b[0;34m\u001b[0m\u001b[0m\n\u001b[0m\u001b[1;32m     20\u001b[0m \u001b[0;34m\u001b[0m\u001b[0m\n\u001b[1;32m     21\u001b[0m \u001b[0;34m\u001b[0m\u001b[0m\n",
      "\u001b[0;31mNameError\u001b[0m: name 'year' is not defined"
     ]
    }
   ],
   "source": [
    "# Create class with 2 paramters inside of the __init__ which are make and model\n",
    "\n",
    "# Inside of the Car class create a method that has 4 parameter in total (self,year,door,seats)\n",
    "\n",
    "# Output: This car is from 2019 and is a Ford Expolorer and has 4 doors and 5 seats\n",
    "\n",
    "class Machine():\n",
    "    \n",
    "    def __init__(self, make = \"Ford\", model =\"Explorer\"):\n",
    "        self.make = make\n",
    "        self.model = model\n",
    "        \n",
    "        \n",
    "    def infoMach(self, year = 2019, door = 4, seats = 5):\n",
    "        self.year = year\n",
    "        self.door = door\n",
    "        self.seats = seats\n",
    "    \n",
    "    print(f\"This car is from {year} and is a {make} {model} and has {door} doors and {seats} seats!\")\n",
    "        \n",
    "        \n",
    "    \n"
   ]
  },
  {
   "cell_type": "markdown",
   "metadata": {},
   "source": [
    "## Inheritance <br>\n",
    "<p>You can create a child-parent relationship between two classes by using inheritance. What this allows you to do is have overriding methods, but also inherit traits from the parent class. Think of it as an actual parent and child, the child will inherit the parent's genes, as will the classes in OOP</p>"
   ]
  },
  {
   "cell_type": "markdown",
   "metadata": {},
   "source": [
    "##### Syntax for Inheriting from a Parent Class"
   ]
  },
  {
   "cell_type": "code",
   "execution_count": 47,
   "metadata": {},
   "outputs": [
    {
     "name": "stdout",
     "output_type": "stream",
     "text": [
      "Reeee\n",
      "The dog can run at 15 mph and accelrates at 9.8\n",
      "green\n"
     ]
    },
    {
     "ename": "AttributeError",
     "evalue": "'Dog' object has no attribute 'eye_color'",
     "output_type": "error",
     "traceback": [
      "\u001b[0;31m---------------------------------------------------------------------------\u001b[0m",
      "\u001b[0;31mAttributeError\u001b[0m                            Traceback (most recent call last)",
      "\u001b[0;32m<ipython-input-47-16babd9140b6>\u001b[0m in \u001b[0;36m<module>\u001b[0;34m\u001b[0m\n\u001b[1;32m     43\u001b[0m \u001b[0mbuddy\u001b[0m\u001b[0;34m.\u001b[0m\u001b[0mmakeSound\u001b[0m\u001b[0;34m(\u001b[0m\u001b[0;34m)\u001b[0m\u001b[0;34m\u001b[0m\u001b[0;34m\u001b[0m\u001b[0m\n\u001b[1;32m     44\u001b[0m \u001b[0mprint\u001b[0m\u001b[0;34m(\u001b[0m\u001b[0mbuddy\u001b[0m\u001b[0;34m.\u001b[0m\u001b[0meye_color\u001b[0m\u001b[0;34m)\u001b[0m\u001b[0;34m\u001b[0m\u001b[0;34m\u001b[0m\u001b[0m\n\u001b[0;32m---> 45\u001b[0;31m \u001b[0mprint\u001b[0m\u001b[0;34m(\u001b[0m\u001b[0mlassie\u001b[0m\u001b[0;34m.\u001b[0m\u001b[0meye_color\u001b[0m\u001b[0;34m)\u001b[0m\u001b[0;34m\u001b[0m\u001b[0;34m\u001b[0m\u001b[0m\n\u001b[0m\u001b[1;32m     46\u001b[0m \u001b[0;34m\u001b[0m\u001b[0m\n",
      "\u001b[0;31mAttributeError\u001b[0m: 'Dog' object has no attribute 'eye_color'"
     ]
    }
   ],
   "source": [
    "# Parent class -- Animal\n",
    "class Animal():\n",
    "    ACCELERATION = 9.8\n",
    "    \n",
    "    def __init__(self, name, species, legs=4):\n",
    "        self.name = name\n",
    "        self.species = species\n",
    "        self.legs= legs\n",
    "        \n",
    "    # Generic Parent (animal) Method\n",
    "    def makeSound(self):\n",
    "        noise = \"Reeee\"\n",
    "        return noise\n",
    "    \n",
    "class Dog(Animal):\n",
    "    SPEED = 15\n",
    "    \n",
    "    def printInfo(self):\n",
    "        print(f\"The dog can run at {self.SPEED} mph and accelrates at {self.ACCELERATION}\")\n",
    "        \n",
    "class Mutt(Dog):\n",
    "    COLOR = \"black, brown and white\"\n",
    "              \n",
    "    #Overriding the Animal class __init__ method by using\n",
    "    #the dog class\n",
    "              \n",
    "    def __init__(self, name, species, eye_color, legs=4):\n",
    "        Dog.__init__(self, name, species, legs)\n",
    "        self.eye_color = eye_color\n",
    "              \n",
    "    #Override the makeSound method from the Animal class\n",
    "    def makeSound(self):\n",
    "        noise = \"Bark\"\n",
    "        return noise\n",
    "\n",
    "\n",
    "lizard = Animal(\"Sarah\", \"Bearded Dragon\")\n",
    "lassie = Dog(\"lassie\", \"Collie\")\n",
    "buddy = Mutt(\"Buddy\", \"Mutt\", \"green\")\n",
    "              \n",
    "print(lizard.makeSound())\n",
    "lassie.printInfo()\n",
    "buddy.makeSound()\n",
    "print(buddy.eye_color)\n",
    "print(lassie.eye_color)\n",
    "              "
   ]
  },
  {
   "cell_type": "markdown",
   "metadata": {},
   "source": [
    "##### The \\__init\\__() Method for a Child Class - super()"
   ]
  },
  {
   "cell_type": "code",
   "execution_count": 42,
   "metadata": {
    "scrolled": true
   },
   "outputs": [
    {
     "name": "stdout",
     "output_type": "stream",
     "text": [
      "9.8\n",
      "15\n",
      "4\n",
      "4\n"
     ]
    }
   ],
   "source": [
    "class Mutt(Dog):\n",
    "    COLOR = \"black, brown and white\"\n",
    "              \n",
    "    #Overriding the Animal class __init__ method by using\n",
    "    #the dog class\n",
    "              \n",
    "    def __init__(self, name, species, eye_color, legs=4):\n",
    "        #super grab from all the parents\n",
    "        super().__init__(name, species, legs)\n",
    "        self.eye_color = eye_color\n",
    "              \n",
    "    #Override the makeSound method from the Animal class\n",
    "    def makeSound(self):\n",
    "        noise = \"Bark\"\n",
    "        return noise\n",
    "    \n",
    "fido = Mutt(\"Fido\", \"Mut\", \"Blue\")\n",
    "jimothy = Mutt(\"Jimothy\", \"Mutt\", \"Hazel\")\n",
    "print(fido.ACCELERATION)\n",
    "print(jimothy.SPEED)\n",
    "print(fido.legs)\n",
    "print(jimothy.legs)"
   ]
  },
  {
   "cell_type": "markdown",
   "metadata": {},
   "source": [
    "##### Defining Attributes and Methods for the Child Class"
   ]
  },
  {
   "cell_type": "code",
   "execution_count": null,
   "metadata": {},
   "outputs": [],
   "source": [
    "# See Above"
   ]
  },
  {
   "cell_type": "markdown",
   "metadata": {},
   "source": [
    "##### Method Overriding"
   ]
  },
  {
   "cell_type": "code",
   "execution_count": null,
   "metadata": {},
   "outputs": [],
   "source": [
    "# See Above"
   ]
  },
  {
   "cell_type": "markdown",
   "metadata": {},
   "source": [
    "## Classes as Attributes <br>\n",
    "<p>Classes can also be used as attributes within another class. This is useful in situations where you need to keep variables locally stored, instead of globally stored.</p>"
   ]
  },
  {
   "cell_type": "code",
   "execution_count": 46,
   "metadata": {},
   "outputs": [
    {
     "name": "stdout",
     "output_type": "stream",
     "text": [
      "20\n",
      "20\n"
     ]
    },
    {
     "data": {
      "text/plain": [
       "'2015 Toyota Prius 20'"
      ]
     },
     "execution_count": 46,
     "metadata": {},
     "output_type": "execute_result"
    }
   ],
   "source": [
    "class Battery():\n",
    "    VOLTS = 7.8\n",
    "    \n",
    "    def __init__(self, cells):\n",
    "        self.cells = cells\n",
    "        \n",
    "        \n",
    "class Car():\n",
    "    def __init__(self, year, make, model, battery):\n",
    "        self.year = year\n",
    "        self.make = make\n",
    "        self.model = model\n",
    "        self.battery = battery\n",
    "        \n",
    "    def printInfo(self):\n",
    "        return f\"{self.year} {self.make} {self.model} {self.battery.cells}\"\n",
    "\n",
    "battery = Battery(20)\n",
    "\n",
    "prius = Car(2015, \"Toyota\", \"Prius\", battery)\n",
    "\n",
    "print(battery.cells)\n",
    "print(prius.battery.cells)\n",
    "prius.printInfo()"
   ]
  },
  {
   "cell_type": "markdown",
   "metadata": {},
   "source": [
    "# Exercises"
   ]
  },
  {
   "cell_type": "markdown",
   "metadata": {},
   "source": [
    "### Exercise 1 - Turn the shopping cart program from yesterday into an object-oriented program\n",
    "\n",
    "The comments in the cell below are there as a guide for thinking about the problem. However, if you feel a different way is best for you and your own thought process, please do what feels best for you by all means."
   ]
  },
  {
   "cell_type": "code",
   "execution_count": 87,
   "metadata": {},
   "outputs": [
    {
     "name": "stdout",
     "output_type": "stream",
     "text": [
      "What would you like to do? add/delete/show/quitadd\n",
      "What would you like to add to your cart?: strawberries\n",
      "What would you like to do? add/delete/show/quitadd\n",
      "What would you like to add to your cart?: tomatoes\n",
      "What would you like to do? add/delete/show/quitadd\n",
      "What would you like to add to your cart?: coco milk\n",
      "What would you like to do? add/delete/show/quitdelete\n",
      "What would you like to delete from your cart?: coco milk\n",
      "What would you like to do? add/delete/show/quitshow\n",
      "Here is your cart!\n",
      "strawberries\n",
      "tomatoes\n",
      "What would you like to do? add/delete/show/quitquit\n",
      "Here is your cart!\n",
      "strawberries\n",
      "tomatoes\n"
     ]
    }
   ],
   "source": [
    "# Create a class called cart that retains items and has methods to add, remove, and show\n",
    "\n",
    "class Cart():\n",
    "    \n",
    "    def __init__(self, items):\n",
    "        self.items = items\n",
    "        \n",
    "    def show_cart(self):\n",
    "        if self.items == []:\n",
    "            print(\"Your cart is empty, gather some groceies quickly!\")\n",
    "        else:\n",
    "            print(\"Here is your cart!\")\n",
    "            for item in self.items:\n",
    "                print(item)\n",
    "                \n",
    "    def add_cart(self):\n",
    "        cart = input(\"What would you like to add to your cart?: \")\n",
    "        self.items.append(cart)\n",
    "        \n",
    "    def del_cart(self):\n",
    "        cart1 = input(\"What would you like to delete from your cart?: \")\n",
    "        self.items.remove(cart1)\n",
    "        \n",
    "    \n",
    "shopping_cart = Cart([])\n",
    "\n",
    "def run():\n",
    "    while True:\n",
    "        response = input(\"What would you like to do? add/delete/show/quit\")\n",
    "        \n",
    "        if response.lower() == \"quit\":\n",
    "            shopping_cart.show_cart()\n",
    "            break\n",
    "        elif response.lower() == \"add\":\n",
    "            shopping_cart.add_cart()\n",
    "        elif response.lower() == \"show\":\n",
    "            shopping_cart.show_cart()\n",
    "        elif response.lower() == \"delete\":\n",
    "            shopping_cart.del_cart()\n",
    "            \n",
    "run()\n",
    "\n",
    "    "
   ]
  },
  {
   "cell_type": "markdown",
   "metadata": {},
   "source": [
    "### Exercise 2 - Write a Python class which has two methods get_String and print_String. get_String accept a string from the user and print_String print the string in upper case"
   ]
  },
  {
   "cell_type": "code",
   "execution_count": 88,
   "metadata": {},
   "outputs": [
    {
     "name": "stdout",
     "output_type": "stream",
     "text": [
      "The only thing i really know is that i know nothing.\n",
      "THE ONLY THING I REALLY KNOW IS THAT I KNOW NOTHING.\n"
     ]
    }
   ],
   "source": [
    "class Getnprint_string():\n",
    "    \n",
    "    def __init__(self):\n",
    "        self.input1 = input1\n",
    "        \n",
    "    def get_string(self):\n",
    "        self.input1 = input()\n",
    "        \n",
    "    def print_string(self):\n",
    "        print(self.input1.upper())\n",
    "        \n",
    "test =  Getnprint_string()\n",
    "\n",
    "test.get_string()\n",
    "\n",
    "test.print_string()\n",
    "#input1.get_string()\n",
    "\n",
    "#input1.print_string()\n",
    "\n"
   ]
  },
  {
   "cell_type": "code",
   "execution_count": null,
   "metadata": {},
   "outputs": [],
   "source": []
  }
 ],
 "metadata": {
  "kernelspec": {
   "display_name": "Python 3",
   "language": "python",
   "name": "python3"
  },
  "language_info": {
   "codemirror_mode": {
    "name": "ipython",
    "version": 3
   },
   "file_extension": ".py",
   "mimetype": "text/x-python",
   "name": "python",
   "nbconvert_exporter": "python",
   "pygments_lexer": "ipython3",
   "version": "3.8.8"
  }
 },
 "nbformat": 4,
 "nbformat_minor": 2
}
